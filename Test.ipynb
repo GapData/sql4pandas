{
 "cells": [
  {
   "cell_type": "code",
   "execution_count": 55,
   "metadata": {},
   "outputs": [],
   "source": [
    "from sql4pandas.SQLiteLexer import SQLiteLexer\n",
    "from sql4pandas.SQLiteListener import SQLiteListener\n",
    "from sql4pandas.SQLiteParser import SQLiteParser\n",
    "import antlr4\n",
    "import pandas as pd\n",
    "import numpy as np\n",
    "import sys"
   ]
  },
  {
   "cell_type": "code",
   "execution_count": 187,
   "metadata": {},
   "outputs": [
    {
     "name": "stdout",
     "output_type": "stream",
     "text": [
      "ANTLR runtime and generated code versions disagree: 4.6!=4.5.3\n",
      "ANTLR runtime and generated code versions disagree: 4.6!=4.5.3\n",
      "[<sql4pandas.SQLiteParser.Sql_stmt_listContext object at 0x09CF9590>]\n",
      "*****\n",
      "([641 225 182 164] SELECT ([1576 641 225 182 164] ([1473 1576 641 225 182 164] ([1130 1473 1576 641 225 182 164] ([1690 1130 1473 1576 641 225 182 164] SUM)) ( ([1135 1473 1576 641 225 182 164] ([1126 1135 1473 1576 641 225 182 164] ([1700 1126 1135 1473 1576 641 225 182 164] a))) )) as ([1477 1576 641 225 182 164] test)) , ([1578 641 225 182 164] ([1473 1578 641 225 182 164] ([1121 1473 1578 641 225 182 164] ([1694 1121 1473 1578 641 225 182 164] tbl1)) . ([1126 1473 1578 641 225 182 164] ([1700 1126 1473 1578 641 225 182 164] b)))) , ([1578 641 225 182 164] ([1473 1578 641 225 182 164] ([1126 1473 1578 641 225 182 164] ([1700 1126 1473 1578 641 225 182 164] c)))) FROM ([1585 641 225 182 164] ([1487 1585 641 225 182 164] ([1694 1487 1585 641 225 182 164] tbl1))) WHERE ([1599 641 225 182 164] ([78 1599 641 225 182 164] ([1121 78 1599 641 225 182 164] ([1694 1121 78 1599 641 225 182 164] tbl1)) . ([1126 78 1599 641 225 182 164] ([1700 1126 78 1599 641 225 182 164] d))) = ([1221 1599 641 225 182 164] ([1114 1221 1599 641 225 182 164] 5))))\n",
      "None\n",
      "SUM(a)\n",
      "None\n",
      "a\n",
      "None\n",
      "None\n",
      "tbl1.b\n",
      "tbl1\n",
      "None\n",
      "c\n",
      "None\n",
      "tbl1.d=5\n",
      "None\n",
      "tbl1.d\n",
      "tbl1\n",
      "5\n",
      "None\n"
     ]
    }
   ],
   "source": [
    "class SQL4PandasCompiler(SQLiteListener):\n",
    "    def __init__(self, statement):\n",
    "        lexer = SQLiteLexer(antlr4.InputStream(statement))\n",
    "        stream = antlr4.CommonTokenStream(lexer)\n",
    "        parser = SQLiteParser(stream)\n",
    "        tree = parser.parse()\n",
    "        walker = antlr4.ParseTreeWalker()\n",
    "        walker.walk(self, tree)\n",
    "        self.operations = []\n",
    "        \n",
    "    # Enter a parse tree produced by SQLiteParser#parse.\n",
    "    def enterParse(self, ctx):\n",
    "#         print dir(ctx)\n",
    "        print ctx.sql_stmt_list()\n",
    "        pass\n",
    "\n",
    "    # Exit a parse tree produced by SQLiteParser#parse.\n",
    "    def exitParse(self, ctx):\n",
    "        pass\n",
    "\n",
    "    def enterSelect_core(self, ctx):\n",
    "#         print dir(ctx)\n",
    "#         print ctx.getText()\n",
    "        print '*****'\n",
    "        print ctx.toStringTree()\n",
    "    \n",
    "    def enterExpr(self, ctx):\n",
    "#         print dir(ctx.parentCtx)\n",
    "        print ctx.getText()       \n",
    "        print ctx.table_name().getText() if ctx.table_name() is not None else None\n",
    "\n",
    "#         print dir(ctx)\n",
    "        if ctx.function_name() is not None:\n",
    "#             print dir(ctx)\n",
    "#             print ctx.function_name().getText()\n",
    "            pass\n",
    "\n",
    "\n",
    "    # Enter a parse tree produced by SQLiteParser#result_column.\n",
    "    def enterResult_column(self, ctx):\n",
    "#         print ctx.getText()\n",
    "#         print ctx.expr()\n",
    "#         print ctx.column_alias()\n",
    "#         print ctx.table_name()\n",
    "        print ctx.table_name()\n",
    "#         self.operations.append(lambda db: )\n",
    "\n",
    "    # Exit a parse tree produced by SQLiteParser#result_column.\n",
    "    def exitResult_column(self, ctx):\n",
    "        pass\n",
    "    \n",
    "    def execute(self, db):\n",
    "        # db denoted as a multi-dimensional dataframe OR dictionary of dataframes\n",
    "        return reduce(lambda ret, op: op(ret), self.operations, db)\n",
    "\n",
    "    \n",
    "TEST_STMT = \"\"\"\n",
    "    SELECT SUM(a) as test, tbl1.b, c FROM tbl1 WHERE tbl1.d = 5\n",
    "\"\"\"\n",
    "\n",
    "tbl1 = pd.DataFrame(np.random.randn(1000, 5) * 50,\n",
    "                    columns=['a', 'b', 'c', 'd', 'e'])\n",
    "tbl1['f'] = 'five'\n",
    "tbl2 = tbl1.copy()\n",
    "\n",
    "db = {'tbl1': tbl1, 'tbl2': tbl2}\n",
    "\n",
    "compiler = SQL4PandasCompiler(TEST_STMT)"
   ]
  },
  {
   "cell_type": "code",
   "execution_count": 185,
   "metadata": {},
   "outputs": [],
   "source": []
  },
  {
   "cell_type": "code",
   "execution_count": null,
   "metadata": {},
   "outputs": [],
   "source": []
  },
  {
   "cell_type": "code",
   "execution_count": null,
   "metadata": {},
   "outputs": [],
   "source": []
  },
  {
   "cell_type": "code",
   "execution_count": null,
   "metadata": {},
   "outputs": [],
   "source": []
  }
 ],
 "metadata": {
  "kernelspec": {
   "display_name": "Python 2",
   "language": "python",
   "name": "python2"
  },
  "language_info": {
   "codemirror_mode": {
    "name": "ipython",
    "version": 2
   },
   "file_extension": ".py",
   "mimetype": "text/x-python",
   "name": "python",
   "nbconvert_exporter": "python",
   "pygments_lexer": "ipython2",
   "version": "2.7.12"
  }
 },
 "nbformat": 4,
 "nbformat_minor": 1
}
